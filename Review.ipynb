{
 "cells": [
  {
   "cell_type": "code",
   "execution_count": 5,
   "metadata": {
    "id": "ZoWIqzTQJUP_"
   },
   "outputs": [],
   "source": [
    "import openpyxl\n",
    "import requests\n",
    "from fake_useragent import UserAgent\n",
    "from bs4 import BeautifulSoup\n",
    "import pandas as pd\n",
    "from selenium import webdriver\n",
    "from selenium import webdriver\n",
    "import re\n",
    "import requests\n",
    "from lxml import html\n",
    "from lxml import etree\n",
    "import urllib\n",
    "import re   \n",
    "import unicodedata\n",
    "import time\n",
    "from Bio import Entrez\n",
    "import networkx as nx\n",
    "import pandas as pd"
   ]
  },
  {
   "cell_type": "markdown",
   "metadata": {
    "id": "bQjRqUeEihgf"
   },
   "source": [
    "What do you want to search?"
   ]
  },
  {
   "cell_type": "code",
   "execution_count": 6,
   "metadata": {
    "id": "faPPfJzKLBhd"
   },
   "outputs": [],
   "source": [
    "myquery = '\"nanoparticles\"AND\"lung cancer\"'"
   ]
  },
  {
   "cell_type": "markdown",
   "metadata": {
    "id": "G-LJv8ndgYhg"
   },
   "source": [
    "# 1. Get excel with abstracts"
   ]
  },
  {
   "cell_type": "markdown",
   "metadata": {
    "id": "3gGkSqApf_Xh"
   },
   "source": [
    "Add your personal key and email here to be able to access the PubMed database\n",
    "\n",
    "Instructions to get your personal key can be found here: https://ncbiinsights.ncbi.nlm.nih.gov/2017/11/02/new-api-keys-for-the-e-utilities/\n"
   ]
  },
  {
   "cell_type": "code",
   "execution_count": 7,
   "metadata": {
    "id": "ZMa-FxaqPgeJ"
   },
   "outputs": [],
   "source": [
    "Entrez.email = 'ramin.y.shahrivar@gmail.com'\n"
   ]
  },
  {
   "cell_type": "markdown",
   "metadata": {
    "id": "G0i36lTpPeN2"
   },
   "source": [
    "The api key is optional, but you can get more articles without error"
   ]
  },
  {
   "cell_type": "code",
   "execution_count": 8,
   "metadata": {
    "id": "DBstjRhyPifL"
   },
   "outputs": [],
   "source": [
    "Entrez.api_key = \"aa1f7464c35c00206ac5717969613e858407\""
   ]
  },
  {
   "cell_type": "markdown",
   "metadata": {
    "id": "htf6QIgXjYNl"
   },
   "source": [
    "Some helper functions..."
   ]
  },
  {
   "cell_type": "code",
   "execution_count": 9,
   "metadata": {
    "id": "s1KABabfPltO"
   },
   "outputs": [],
   "source": [
    "def search(query,mymax):\n",
    "    handle = Entrez.esearch(db='pubmed', \n",
    "                            sort='relevance', \n",
    "                            retmax=str(mymax),\n",
    "                            retmode='xml', \n",
    "                            term=query)\n",
    "    results = Entrez.read(handle)\n",
    "    return results\n",
    "\n",
    "def fetch_details(id_list):\n",
    "    ids = ','.join(id_list)\n",
    "    handle = Entrez.efetch(db='pubmed',\n",
    "                           retmode='xml',\n",
    "                           id=ids)\n",
    "    results = Entrez.read(handle)\n",
    "    return results\n",
    "\n",
    "def fetch_details_2(id):\n",
    "    handle = Entrez.efetch(db='pubmed',\n",
    "                           retmode='xml',\n",
    "                           id=id)\n",
    "    results = Entrez.read(handle)\n",
    "    return results"
   ]
  },
  {
   "cell_type": "markdown",
   "metadata": {
    "id": "OHa4bZOPjapN"
   },
   "source": [
    "Get the results"
   ]
  },
  {
   "cell_type": "code",
   "execution_count": 10,
   "metadata": {
    "id": "oxNDx86TPzUY"
   },
   "outputs": [],
   "source": [
    "titles=[]\n",
    "aims=[]\n",
    "mms=[]\n",
    "ress=[]\n",
    "concs=[] \n",
    "refs=[]\n",
    "abs=[]\n",
    "pmids = []\n",
    "cited_by = []\n",
    "\n",
    "mymax=100\n",
    "results = search(myquery,mymax)\n",
    "id_list = results['IdList'] # list of UIDs\n",
    "chunk_size = 50 # whatever you like   \n",
    "for chunk_i in range(0, len(id_list), chunk_size):\n",
    "    chunk = id_list[chunk_i:chunk_i + chunk_size]\n",
    " \n",
    "    papers = fetch_details(chunk)\n",
    "    for i, paper in enumerate(papers['PubmedArticle']):\n",
    "      try:\n",
    "          data = paper.get('PubmedData')\n",
    "          data2 = paper.get('MedlineCitation')\n",
    "          article = data2.get('Article')\n",
    "          title = article.get('ArticleTitle')\n",
    "          abstr = article.get('Abstract')\n",
    "          abstr = abstr.get('AbstractText')\n",
    "          ref = data.get('ReferenceList')\n",
    "          refs.append(ref)\n",
    "          pmids.append(data2.get('PMID'))\n",
    "          cited_by.append('')\n",
    "          try:\n",
    "            aim = abstr[0]\n",
    "            MM = abstr[1]\n",
    "            res = abstr[2]\n",
    "            conc = abstr[3]\n",
    "            titles.append(title)\n",
    "            aims.append(aim)\n",
    "            mms.append(MM)\n",
    "            ress.append(res)\n",
    "            concs.append(conc)\n",
    "            abs.append('')\n",
    "          except:\n",
    "            abs.append(abstr[0])\n",
    "            titles.append(title)\n",
    "            aims.append('')\n",
    "            mms.append('')\n",
    "            ress.append('')\n",
    "            concs.append('')\n",
    "      except:\n",
    "          pass\n"
   ]
  },
  {
   "cell_type": "markdown",
   "metadata": {
    "id": "190BWIK5jdcp"
   },
   "source": [
    "add them to a dataframe and download!"
   ]
  },
  {
   "cell_type": "code",
   "execution_count": 11,
   "metadata": {
    "id": "KcSzQdh-ffP4"
   },
   "outputs": [],
   "source": [
    "data = {'title': titles, 'id':pmids,'abs':abs,'aims':aims,'MM':mms,'res':ress,'concl':concs} \n",
    "df2 = pd.DataFrame(data) "
   ]
  },
  {
   "cell_type": "code",
   "execution_count": 12,
   "metadata": {
    "colab": {
     "base_uri": "https://localhost:8080/",
     "height": 467
    },
    "id": "JzhC_8WwSwQR",
    "outputId": "706d22ff-0245-466b-d40b-b393ef50839c"
   },
   "outputs": [
    {
     "data": {
      "text/html": [
       "<div>\n",
       "<style scoped>\n",
       "    .dataframe tbody tr th:only-of-type {\n",
       "        vertical-align: middle;\n",
       "    }\n",
       "\n",
       "    .dataframe tbody tr th {\n",
       "        vertical-align: top;\n",
       "    }\n",
       "\n",
       "    .dataframe thead th {\n",
       "        text-align: right;\n",
       "    }\n",
       "</style>\n",
       "<table border=\"1\" class=\"dataframe\">\n",
       "  <thead>\n",
       "    <tr style=\"text-align: right;\">\n",
       "      <th></th>\n",
       "      <th>title</th>\n",
       "      <th>id</th>\n",
       "      <th>abs</th>\n",
       "      <th>aims</th>\n",
       "      <th>MM</th>\n",
       "      <th>res</th>\n",
       "      <th>concl</th>\n",
       "    </tr>\n",
       "  </thead>\n",
       "  <tbody>\n",
       "    <tr>\n",
       "      <th>0</th>\n",
       "      <td>Novel therapeutic regimens for urethane-induce...</td>\n",
       "      <td>33332722</td>\n",
       "      <td>Lung cancer remains incurable; therefore, nove...</td>\n",
       "      <td></td>\n",
       "      <td></td>\n",
       "      <td></td>\n",
       "      <td></td>\n",
       "    </tr>\n",
       "    <tr>\n",
       "      <th>1</th>\n",
       "      <td>Harnessing chlorin e6 loaded by functionalized...</td>\n",
       "      <td>34997349</td>\n",
       "      <td>Non-small-cell lung cancer (NSCLC) is the most...</td>\n",
       "      <td></td>\n",
       "      <td></td>\n",
       "      <td></td>\n",
       "      <td></td>\n",
       "    </tr>\n",
       "    <tr>\n",
       "      <th>2</th>\n",
       "      <td>5-Fluorouracil-Impregnated PLGA Coated Gold Na...</td>\n",
       "      <td>34951582</td>\n",
       "      <td></td>\n",
       "      <td>The study aimed to investigate the augmented c...</td>\n",
       "      <td>In this study, several formulations were prepa...</td>\n",
       "      <td>Characterization results showed spherical poly...</td>\n",
       "      <td>PLGA coated biogenic gold nanoparticles have a...</td>\n",
       "    </tr>\n",
       "    <tr>\n",
       "      <th>3</th>\n",
       "      <td>Silencing of survivin and cyclin B1 through si...</td>\n",
       "      <td>32956996</td>\n",
       "      <td>With the development of nanotechnology, variou...</td>\n",
       "      <td></td>\n",
       "      <td></td>\n",
       "      <td></td>\n",
       "      <td></td>\n",
       "    </tr>\n",
       "    <tr>\n",
       "      <th>4</th>\n",
       "      <td>New insights into designing hybrid nanoparticl...</td>\n",
       "      <td>30639691</td>\n",
       "      <td>Lung cancer is the foremost reason of death fr...</td>\n",
       "      <td></td>\n",
       "      <td></td>\n",
       "      <td></td>\n",
       "      <td></td>\n",
       "    </tr>\n",
       "    <tr>\n",
       "      <th>...</th>\n",
       "      <td>...</td>\n",
       "      <td>...</td>\n",
       "      <td>...</td>\n",
       "      <td>...</td>\n",
       "      <td>...</td>\n",
       "      <td>...</td>\n",
       "      <td>...</td>\n",
       "    </tr>\n",
       "    <tr>\n",
       "      <th>95</th>\n",
       "      <td>Oseltamivir phosphate loaded pegylated-Eudragi...</td>\n",
       "      <td>34520775</td>\n",
       "      <td>The target of the current investigation was th...</td>\n",
       "      <td></td>\n",
       "      <td></td>\n",
       "      <td></td>\n",
       "      <td></td>\n",
       "    </tr>\n",
       "    <tr>\n",
       "      <th>96</th>\n",
       "      <td>Biodistribution and pharmacokinetics of Mad2 s...</td>\n",
       "      <td>26980454</td>\n",
       "      <td></td>\n",
       "      <td>The present study focuses on biodistribution p...</td>\n",
       "      <td>Mad2 siRNA was encapsulated in EGFR targeted a...</td>\n",
       "      <td>TG nanoparticles showed a consistent and prefe...</td>\n",
       "      <td>TG nanoparticles present as an attractive drug...</td>\n",
       "    </tr>\n",
       "    <tr>\n",
       "      <th>97</th>\n",
       "      <td>Non-small cell lung cancer-targeted, redox-sen...</td>\n",
       "      <td>31586902</td>\n",
       "      <td>Afatinib (Afa), a second-generation irreversib...</td>\n",
       "      <td></td>\n",
       "      <td></td>\n",
       "      <td></td>\n",
       "      <td></td>\n",
       "    </tr>\n",
       "    <tr>\n",
       "      <th>98</th>\n",
       "      <td>Design of Lamivudine Loaded Nanoparticles for ...</td>\n",
       "      <td>32209039</td>\n",
       "      <td></td>\n",
       "      <td>To prepare lamivudine (LAM)-loaded-nanoparticl...</td>\n",
       "      <td>The development of anticancer drugs is a diffi...</td>\n",
       "      <td>To characterize the LAM-loaded-NPs and examine...</td>\n",
       "      <td>LAM-loaded-NPs were prepared using Nano Spray-...</td>\n",
       "    </tr>\n",
       "    <tr>\n",
       "      <th>99</th>\n",
       "      <td>PLGA Porous Microspheres Dry Powders for Codel...</td>\n",
       "      <td>31664795</td>\n",
       "      <td>Combination therapy of epidermal growth factor...</td>\n",
       "      <td></td>\n",
       "      <td></td>\n",
       "      <td></td>\n",
       "      <td></td>\n",
       "    </tr>\n",
       "  </tbody>\n",
       "</table>\n",
       "<p>100 rows × 7 columns</p>\n",
       "</div>"
      ],
      "text/plain": [
       "                                                title        id  \\\n",
       "0   Novel therapeutic regimens for urethane-induce...  33332722   \n",
       "1   Harnessing chlorin e6 loaded by functionalized...  34997349   \n",
       "2   5-Fluorouracil-Impregnated PLGA Coated Gold Na...  34951582   \n",
       "3   Silencing of survivin and cyclin B1 through si...  32956996   \n",
       "4   New insights into designing hybrid nanoparticl...  30639691   \n",
       "..                                                ...       ...   \n",
       "95  Oseltamivir phosphate loaded pegylated-Eudragi...  34520775   \n",
       "96  Biodistribution and pharmacokinetics of Mad2 s...  26980454   \n",
       "97  Non-small cell lung cancer-targeted, redox-sen...  31586902   \n",
       "98  Design of Lamivudine Loaded Nanoparticles for ...  32209039   \n",
       "99  PLGA Porous Microspheres Dry Powders for Codel...  31664795   \n",
       "\n",
       "                                                  abs  \\\n",
       "0   Lung cancer remains incurable; therefore, nove...   \n",
       "1   Non-small-cell lung cancer (NSCLC) is the most...   \n",
       "2                                                       \n",
       "3   With the development of nanotechnology, variou...   \n",
       "4   Lung cancer is the foremost reason of death fr...   \n",
       "..                                                ...   \n",
       "95  The target of the current investigation was th...   \n",
       "96                                                      \n",
       "97  Afatinib (Afa), a second-generation irreversib...   \n",
       "98                                                      \n",
       "99  Combination therapy of epidermal growth factor...   \n",
       "\n",
       "                                                 aims  \\\n",
       "0                                                       \n",
       "1                                                       \n",
       "2   The study aimed to investigate the augmented c...   \n",
       "3                                                       \n",
       "4                                                       \n",
       "..                                                ...   \n",
       "95                                                      \n",
       "96  The present study focuses on biodistribution p...   \n",
       "97                                                      \n",
       "98  To prepare lamivudine (LAM)-loaded-nanoparticl...   \n",
       "99                                                      \n",
       "\n",
       "                                                   MM  \\\n",
       "0                                                       \n",
       "1                                                       \n",
       "2   In this study, several formulations were prepa...   \n",
       "3                                                       \n",
       "4                                                       \n",
       "..                                                ...   \n",
       "95                                                      \n",
       "96  Mad2 siRNA was encapsulated in EGFR targeted a...   \n",
       "97                                                      \n",
       "98  The development of anticancer drugs is a diffi...   \n",
       "99                                                      \n",
       "\n",
       "                                                  res  \\\n",
       "0                                                       \n",
       "1                                                       \n",
       "2   Characterization results showed spherical poly...   \n",
       "3                                                       \n",
       "4                                                       \n",
       "..                                                ...   \n",
       "95                                                      \n",
       "96  TG nanoparticles showed a consistent and prefe...   \n",
       "97                                                      \n",
       "98  To characterize the LAM-loaded-NPs and examine...   \n",
       "99                                                      \n",
       "\n",
       "                                                concl  \n",
       "0                                                      \n",
       "1                                                      \n",
       "2   PLGA coated biogenic gold nanoparticles have a...  \n",
       "3                                                      \n",
       "4                                                      \n",
       "..                                                ...  \n",
       "95                                                     \n",
       "96  TG nanoparticles present as an attractive drug...  \n",
       "97                                                     \n",
       "98  LAM-loaded-NPs were prepared using Nano Spray-...  \n",
       "99                                                     \n",
       "\n",
       "[100 rows x 7 columns]"
      ]
     },
     "execution_count": 12,
     "metadata": {},
     "output_type": "execute_result"
    }
   ],
   "source": [
    "df2"
   ]
  },
  {
   "cell_type": "code",
   "execution_count": 25,
   "metadata": {
    "id": "9JAImpmef-nD"
   },
   "outputs": [],
   "source": [
    "df2.to_excel('output.xlsx') "
   ]
  },
  {
   "cell_type": "markdown",
   "metadata": {
    "id": "fyeilwqOgfWj"
   },
   "source": [
    "# 2. Get the graph for the citations"
   ]
  },
  {
   "cell_type": "markdown",
   "metadata": {
    "id": "6QEtv_a4jkhh"
   },
   "source": [
    "Get the nodes and edges"
   ]
  },
  {
   "cell_type": "code",
   "execution_count": 13,
   "metadata": {
    "id": "NsMgPm-ybTYL"
   },
   "outputs": [],
   "source": [
    "nodes = []\n",
    "edges = []\n",
    "new_ids=[]\n",
    "for i in range(len(refs)):\n",
    "  temp = refs[i]\n",
    "  name=str(pmids[i])\n",
    "  if temp:\n",
    "    if name not in nodes:\n",
    "      nodes.append(name)\n",
    "    temp2 = temp[0]\n",
    "    A = temp2.get('Reference')\n",
    "    for j in range(len(A)):\n",
    "      temp3 = A[j].get('ArticleIdList')\n",
    "      try:\n",
    "        name2 = str(temp3[0])\n",
    "        if name2 not in nodes:\n",
    "          nodes.append(name2)\n",
    "          new_ids.append(name2)\n",
    "\n",
    "        edges.append((name,name2))\n",
    "      except:\n",
    "        pass"
   ]
  },
  {
   "cell_type": "markdown",
   "metadata": {
    "id": "Y5R2qu-jjm-d"
   },
   "source": [
    "Build the graph"
   ]
  },
  {
   "cell_type": "code",
   "execution_count": 14,
   "metadata": {
    "id": "l3iGGZrDaPrq"
   },
   "outputs": [],
   "source": [
    "g = nx.Graph()\n",
    "g.add_nodes_from(nodes)\n",
    "for i in range(len(edges)):\n",
    "  B = edges[i]\n",
    "  g.add_edge(B[0], B[1])\n"
   ]
  },
  {
   "cell_type": "markdown",
   "metadata": {
    "id": "QW-7Gv2mgvGU"
   },
   "source": [
    "color code the original papers in blue, the rest in red"
   ]
  },
  {
   "cell_type": "code",
   "execution_count": 23,
   "metadata": {
    "id": "ROrYZyFOgxqc"
   },
   "outputs": [],
   "source": [
    "color_map = []\n",
    "for node in nodes:\n",
    "    if node in pmids:\n",
    "        color_map.append('blue')\n",
    "    else: \n",
    "        color_map.append('red')      "
   ]
  },
  {
   "cell_type": "markdown",
   "metadata": {
    "id": "TZ1XCqXmgzBi"
   },
   "source": [
    "get the graph"
   ]
  },
  {
   "cell_type": "code",
   "execution_count": 27,
   "metadata": {
    "colab": {
     "base_uri": "https://localhost:8080/",
     "height": 319
    },
    "id": "b6ckdJ7ma4iU",
    "outputId": "ed348169-5fa9-4256-a3b1-a85465197d45"
   },
   "outputs": [
    {
     "data": {
      "image/png": "[encoded data removed]",
      "text/plain": [
       "<Figure size 432x288 with 1 Axes>"
      ]
     },
     "metadata": {},
     "output_type": "display_data"
    }
   ],
   "source": [
    "nx.draw(g,node_size=30, node_color=color_map,alpha=0.4)"
   ]
  },
  {
   "cell_type": "markdown",
   "metadata": {
    "id": "BqjHryqzhCt1"
   },
   "source": [
    "Voilá!! "
   ]
  },
  {
   "cell_type": "markdown",
   "metadata": {
    "id": "mPODDlBLNinD"
   },
   "source": [
    "now we can also get the abstracts for the references"
   ]
  },
  {
   "cell_type": "code",
   "execution_count": 18,
   "metadata": {
    "id": "3FXqB-HQNWwD"
   },
   "outputs": [],
   "source": [
    "mymax=100\n",
    "id_list = new_ids # list of UIDs\n",
    "chunk_size = 50 # whatever you like   \n",
    "for chunk_i in range(0, len(id_list), chunk_size):\n",
    "    chunk = id_list[chunk_i:chunk_i + chunk_size]\n",
    " \n",
    "    papers = fetch_details(chunk)\n",
    "    for i, paper in enumerate(papers['PubmedArticle']):\n",
    "      try:\n",
    "          data = paper.get('PubmedData')\n",
    "          data2 = paper.get('MedlineCitation')\n",
    "          article = data2.get('Article')\n",
    "          title = article.get('ArticleTitle')\n",
    "          abstr = article.get('Abstract')\n",
    "          abstr = abstr.get('AbstractText')\n",
    "          ref = data.get('ReferenceList')\n",
    "          refs.append(ref)\n",
    "          pmids.append(data2.get('PMID'))\n",
    "          cited_by.append(str(g.degree(str(data2.get('PMID')))))\n",
    "          try:\n",
    "            aim = abstr[0]\n",
    "            MM = abstr[1]\n",
    "            res = abstr[2]\n",
    "            conc = abstr[3]\n",
    "            titles.append(title)\n",
    "            aims.append(aim)\n",
    "            mms.append(MM)\n",
    "            ress.append(res)\n",
    "            concs.append(conc)\n",
    "            abs.append('')\n",
    "          except:\n",
    "            abs.append(abstr[0])\n",
    "            titles.append(title)\n",
    "            aims.append('')\n",
    "            mms.append('')\n",
    "            ress.append('')\n",
    "            concs.append('')\n",
    "      except:\n",
    "          pass\n"
   ]
  },
  {
   "cell_type": "markdown",
   "metadata": {
    "id": "0YMm5NuSNmeZ"
   },
   "source": [
    "add them to a dataframe"
   ]
  },
  {
   "cell_type": "code",
   "execution_count": 20,
   "metadata": {
    "colab": {
     "base_uri": "https://localhost:8080/",
     "height": 657
    },
    "id": "yRJeXfoYNcyU",
    "outputId": "6e82242b-8a19-40b1-e900-aaf11e3a4b16"
   },
   "outputs": [
    {
     "data": {
      "text/html": [
       "<div>\n",
       "<style scoped>\n",
       "    .dataframe tbody tr th:only-of-type {\n",
       "        vertical-align: middle;\n",
       "    }\n",
       "\n",
       "    .dataframe tbody tr th {\n",
       "        vertical-align: top;\n",
       "    }\n",
       "\n",
       "    .dataframe thead th {\n",
       "        text-align: right;\n",
       "    }\n",
       "</style>\n",
       "<table border=\"1\" class=\"dataframe\">\n",
       "  <thead>\n",
       "    <tr style=\"text-align: right;\">\n",
       "      <th></th>\n",
       "      <th>title</th>\n",
       "      <th>id</th>\n",
       "      <th>abs</th>\n",
       "      <th>aims</th>\n",
       "      <th>MM</th>\n",
       "      <th>res</th>\n",
       "      <th>concl</th>\n",
       "      <th>degree</th>\n",
       "    </tr>\n",
       "  </thead>\n",
       "  <tbody>\n",
       "    <tr>\n",
       "      <th>0</th>\n",
       "      <td>Novel therapeutic regimens for urethane-induce...</td>\n",
       "      <td>33332722</td>\n",
       "      <td>Lung cancer remains incurable; therefore, nove...</td>\n",
       "      <td></td>\n",
       "      <td></td>\n",
       "      <td></td>\n",
       "      <td></td>\n",
       "      <td></td>\n",
       "    </tr>\n",
       "    <tr>\n",
       "      <th>1</th>\n",
       "      <td>Harnessing chlorin e6 loaded by functionalized...</td>\n",
       "      <td>34997349</td>\n",
       "      <td>Non-small-cell lung cancer (NSCLC) is the most...</td>\n",
       "      <td></td>\n",
       "      <td></td>\n",
       "      <td></td>\n",
       "      <td></td>\n",
       "      <td></td>\n",
       "    </tr>\n",
       "    <tr>\n",
       "      <th>2</th>\n",
       "      <td>5-Fluorouracil-Impregnated PLGA Coated Gold Na...</td>\n",
       "      <td>34951582</td>\n",
       "      <td></td>\n",
       "      <td>The study aimed to investigate the augmented c...</td>\n",
       "      <td>In this study, several formulations were prepa...</td>\n",
       "      <td>Characterization results showed spherical poly...</td>\n",
       "      <td>PLGA coated biogenic gold nanoparticles have a...</td>\n",
       "      <td></td>\n",
       "    </tr>\n",
       "    <tr>\n",
       "      <th>3</th>\n",
       "      <td>Silencing of survivin and cyclin B1 through si...</td>\n",
       "      <td>32956996</td>\n",
       "      <td>With the development of nanotechnology, variou...</td>\n",
       "      <td></td>\n",
       "      <td></td>\n",
       "      <td></td>\n",
       "      <td></td>\n",
       "      <td></td>\n",
       "    </tr>\n",
       "    <tr>\n",
       "      <th>4</th>\n",
       "      <td>New insights into designing hybrid nanoparticl...</td>\n",
       "      <td>30639691</td>\n",
       "      <td>Lung cancer is the foremost reason of death fr...</td>\n",
       "      <td></td>\n",
       "      <td></td>\n",
       "      <td></td>\n",
       "      <td></td>\n",
       "      <td></td>\n",
       "    </tr>\n",
       "    <tr>\n",
       "      <th>...</th>\n",
       "      <td>...</td>\n",
       "      <td>...</td>\n",
       "      <td>...</td>\n",
       "      <td>...</td>\n",
       "      <td>...</td>\n",
       "      <td>...</td>\n",
       "      <td>...</td>\n",
       "      <td>...</td>\n",
       "    </tr>\n",
       "    <tr>\n",
       "      <th>1491</th>\n",
       "      <td>Overexpression of MAD2 predicts clinical outco...</td>\n",
       "      <td>21376419</td>\n",
       "      <td>High-level expression of mitotic arrest defect...</td>\n",
       "      <td></td>\n",
       "      <td></td>\n",
       "      <td></td>\n",
       "      <td></td>\n",
       "      <td>1</td>\n",
       "    </tr>\n",
       "    <tr>\n",
       "      <th>1492</th>\n",
       "      <td>Neuropathy associated with microtubule inhibit...</td>\n",
       "      <td>18567992</td>\n",
       "      <td>Microtubule inhibitor (MTI)-based chemotherapi...</td>\n",
       "      <td></td>\n",
       "      <td></td>\n",
       "      <td></td>\n",
       "      <td></td>\n",
       "      <td>1</td>\n",
       "    </tr>\n",
       "    <tr>\n",
       "      <th>1493</th>\n",
       "      <td>Cyclodextrin-based siRNA delivery nanocarriers...</td>\n",
       "      <td>21867463</td>\n",
       "      <td>The discovery of synthetic small interfering R...</td>\n",
       "      <td></td>\n",
       "      <td></td>\n",
       "      <td></td>\n",
       "      <td></td>\n",
       "      <td>1</td>\n",
       "    </tr>\n",
       "    <tr>\n",
       "      <th>1494</th>\n",
       "      <td>Identification and characterization of a novel...</td>\n",
       "      <td>16319141</td>\n",
       "      <td>Epidermal growth factor receptor (ErbB1, EGFR)...</td>\n",
       "      <td></td>\n",
       "      <td></td>\n",
       "      <td></td>\n",
       "      <td></td>\n",
       "      <td>1</td>\n",
       "    </tr>\n",
       "    <tr>\n",
       "      <th>1495</th>\n",
       "      <td>New insights into mechanisms of resistance to ...</td>\n",
       "      <td>21741453</td>\n",
       "      <td>Mechanisms to explain tumor cell resistance to...</td>\n",
       "      <td></td>\n",
       "      <td></td>\n",
       "      <td></td>\n",
       "      <td></td>\n",
       "      <td>1</td>\n",
       "    </tr>\n",
       "  </tbody>\n",
       "</table>\n",
       "<p>1496 rows × 8 columns</p>\n",
       "</div>"
      ],
      "text/plain": [
       "                                                  title        id  \\\n",
       "0     Novel therapeutic regimens for urethane-induce...  33332722   \n",
       "1     Harnessing chlorin e6 loaded by functionalized...  34997349   \n",
       "2     5-Fluorouracil-Impregnated PLGA Coated Gold Na...  34951582   \n",
       "3     Silencing of survivin and cyclin B1 through si...  32956996   \n",
       "4     New insights into designing hybrid nanoparticl...  30639691   \n",
       "...                                                 ...       ...   \n",
       "1491  Overexpression of MAD2 predicts clinical outco...  21376419   \n",
       "1492  Neuropathy associated with microtubule inhibit...  18567992   \n",
       "1493  Cyclodextrin-based siRNA delivery nanocarriers...  21867463   \n",
       "1494  Identification and characterization of a novel...  16319141   \n",
       "1495  New insights into mechanisms of resistance to ...  21741453   \n",
       "\n",
       "                                                    abs  \\\n",
       "0     Lung cancer remains incurable; therefore, nove...   \n",
       "1     Non-small-cell lung cancer (NSCLC) is the most...   \n",
       "2                                                         \n",
       "3     With the development of nanotechnology, variou...   \n",
       "4     Lung cancer is the foremost reason of death fr...   \n",
       "...                                                 ...   \n",
       "1491  High-level expression of mitotic arrest defect...   \n",
       "1492  Microtubule inhibitor (MTI)-based chemotherapi...   \n",
       "1493  The discovery of synthetic small interfering R...   \n",
       "1494  Epidermal growth factor receptor (ErbB1, EGFR)...   \n",
       "1495  Mechanisms to explain tumor cell resistance to...   \n",
       "\n",
       "                                                   aims  \\\n",
       "0                                                         \n",
       "1                                                         \n",
       "2     The study aimed to investigate the augmented c...   \n",
       "3                                                         \n",
       "4                                                         \n",
       "...                                                 ...   \n",
       "1491                                                      \n",
       "1492                                                      \n",
       "1493                                                      \n",
       "1494                                                      \n",
       "1495                                                      \n",
       "\n",
       "                                                     MM  \\\n",
       "0                                                         \n",
       "1                                                         \n",
       "2     In this study, several formulations were prepa...   \n",
       "3                                                         \n",
       "4                                                         \n",
       "...                                                 ...   \n",
       "1491                                                      \n",
       "1492                                                      \n",
       "1493                                                      \n",
       "1494                                                      \n",
       "1495                                                      \n",
       "\n",
       "                                                    res  \\\n",
       "0                                                         \n",
       "1                                                         \n",
       "2     Characterization results showed spherical poly...   \n",
       "3                                                         \n",
       "4                                                         \n",
       "...                                                 ...   \n",
       "1491                                                      \n",
       "1492                                                      \n",
       "1493                                                      \n",
       "1494                                                      \n",
       "1495                                                      \n",
       "\n",
       "                                                  concl degree  \n",
       "0                                                               \n",
       "1                                                               \n",
       "2     PLGA coated biogenic gold nanoparticles have a...         \n",
       "3                                                               \n",
       "4                                                               \n",
       "...                                                 ...    ...  \n",
       "1491                                                         1  \n",
       "1492                                                         1  \n",
       "1493                                                         1  \n",
       "1494                                                         1  \n",
       "1495                                                         1  \n",
       "\n",
       "[1496 rows x 8 columns]"
      ]
     },
     "execution_count": 20,
     "metadata": {},
     "output_type": "execute_result"
    }
   ],
   "source": [
    "data = {'title': titles, 'id':pmids,'abs':abs,'aims':aims,'MM':mms,'res':ress,'concl':concs,'degree':cited_by} \n",
    "df2 = pd.DataFrame(data) \n",
    "df2"
   ]
  },
  {
   "cell_type": "markdown",
   "metadata": {
    "id": "XvJ72Za8No7Y"
   },
   "source": [
    "and we can save/download the document "
   ]
  },
  {
   "cell_type": "code",
   "execution_count": null,
   "metadata": {
    "id": "xuoOJmZpNhle"
   },
   "outputs": [],
   "source": [
    "df2.to_excel('output.xlsx') "
   ]
  },
  {
   "cell_type": "markdown",
   "metadata": {
    "id": "_NSKAwV5g0cL"
   },
   "source": [
    "Some of the posts I've used as references:\n",
    "\n",
    "https://medium.com/@kliang933/scraping-big-data-from-public-research-repositories-e-g-pubmed-arxiv-2-488666f6f29b\n",
    "\n",
    "https://github.com/CrossRef/rest-api-doc#queries\n"
   ]
  }
 ],
 "metadata": {
  "colab": {
   "name": "Final_webscrapping_lit_review_publicversion.ipynb",
   "provenance": []
  },
  "kernelspec": {
   "display_name": "Python 3 (ipykernel)",
   "language": "python",
   "name": "python3"
  },
  "language_info": {
   "codemirror_mode": {
    "name": "ipython",
    "version": 3
   },
   "file_extension": ".py",
   "mimetype": "text/x-python",
   "name": "python",
   "nbconvert_exporter": "python",
   "pygments_lexer": "ipython3",
   "version": "3.10.5"
  }
 },
 "nbformat": 4,
 "nbformat_minor": 1
}
